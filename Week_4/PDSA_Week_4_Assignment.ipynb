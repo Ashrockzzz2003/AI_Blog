{
  "nbformat": 4,
  "nbformat_minor": 0,
  "metadata": {
    "colab": {
      "provenance": [],
      "authorship_tag": "ABX9TyPPIDKEePwJS44G/HcKv6md",
      "include_colab_link": true
    },
    "kernelspec": {
      "name": "python3",
      "display_name": "Python 3"
    },
    "language_info": {
      "name": "python"
    }
  },
  "cells": [
    {
      "cell_type": "markdown",
      "metadata": {
        "id": "view-in-github",
        "colab_type": "text"
      },
      "source": [
        "<a href=\"https://colab.research.google.com/github/Ashrockzzz2003/AI_Blog/blob/main/Week_4/PDSA_Week_4_Assignment.ipynb\" target=\"_parent\"><img src=\"https://colab.research.google.com/assets/colab-badge.svg\" alt=\"Open In Colab\"/></a>"
      ]
    },
    {
      "cell_type": "markdown",
      "source": [
        "# Practice_Assignments"
      ],
      "metadata": {
        "id": "egSGtb3ga6cA"
      }
    },
    {
      "cell_type": "markdown",
      "source": [
        "## PPA_1"
      ],
      "metadata": {
        "id": "KeyxGNwJa9eW"
      }
    },
    {
      "cell_type": "code",
      "source": [
        "import numpy as np\n",
        "\n",
        "class Queue:\n",
        "  def __init__(self):\n",
        "    self.queue = []\n",
        "  \n",
        "  def enqueue(self, v):\n",
        "    self.queue.append(v)\n",
        "  \n",
        "  def isempty(self):\n",
        "    return self.queue == []\n",
        "  \n",
        "  def dequeue(self):\n",
        "    v = None\n",
        "    if not self.isempty():\n",
        "      v = self.queue[0]\n",
        "      # First in First Out\n",
        "      self.queue = self.queue[1:]\n",
        "    return v\n",
        "\n",
        "def BFS_Alist(Alist, v):\n",
        "  \"\"\"Returns vertices reachable from v\"\"\"\n",
        "  visited = {}\n",
        "  for i in Alist.keys():\n",
        "    visited[i] = False\n",
        "  \n",
        "  q = Queue()\n",
        "\n",
        "  visited[v] = True\n",
        "  q.enqueue(v)\n",
        "  \n",
        "  while(not q.isempty()):\n",
        "    j = q.dequeue()\n",
        "    for k in Alist[j]:\n",
        "      if(not visited[k]):\n",
        "        visited[k] = True\n",
        "        q.enqueue(k)\n",
        "  \n",
        "  return visited\n",
        "\n",
        "def find_components(Alist):\n",
        "  component = {}\n",
        "  for i in Alist.keys():\n",
        "    component[i] = -1\n",
        "  \n",
        "  comp_id, seen = 0, 0\n",
        "  while seen < max(Alist.keys()):\n",
        "    startv = min([i for i in Alist.keys() if component[i] == -1])\n",
        "    visited = BFS_Alist(Alist, startv)\n",
        "    for i in visited.keys():\n",
        "      if visited[i]:\n",
        "        seen += 1\n",
        "        component[i] = comp_id\n",
        "    \n",
        "    comp_id += 1\n",
        "\n",
        "  return component\n",
        "\n",
        "def findComponents_undirectedGraph(vertices, edges):\n",
        "    # Create a hash map to handle strings and still use numpy\n",
        "    d = {}\n",
        "    count = 0\n",
        "    for i in vertices:\n",
        "      d[i] = count\n",
        "      count += 1\n",
        "\n",
        "    # Create Adjacency list with new hashed values\n",
        "    A = np.zeros(shape = (len(vertices), len(vertices)))\n",
        "\n",
        "    for (i, j) in edges:\n",
        "      A[d[i], d[j]] = 1\n",
        "\n",
        "    Alist = {}\n",
        "    for i in vertices:\n",
        "      Alist[d[i]] = []\n",
        "\n",
        "    for (i, j) in edges:\n",
        "      Alist[d[i]].append(d[j])\n",
        "      Alist[d[j]].append(d[i])\n",
        "    \n",
        "    # print(find_components(Alist))\n",
        "    component_dictionary = find_components(Alist)\n",
        "    max_val = 0\n",
        "    flag = False\n",
        "    for i in component_dictionary.keys():\n",
        "      if(component_dictionary[i] > max_val):\n",
        "        max_val = component_dictionary[i]\n",
        "      if(component_dictionary[i] == -1):\n",
        "        flag = True\n",
        "    \n",
        "    if(flag):\n",
        "      max_val += 1\n",
        "    return max_val + 1"
      ],
      "metadata": {
        "id": "X7naGHa4fy5o"
      },
      "execution_count": 25,
      "outputs": []
    },
    {
      "cell_type": "code",
      "source": [
        "\"\"\"\n",
        "vertices = input().split(' ')\n",
        "number_of_edges = int(input())\n",
        "edges = []\n",
        "for _ in range(number_of_edges):\n",
        "  edges.append(tuple(map(str, input().split(' '))))\n",
        "\"\"\"\n",
        "vertices = ['a', 'b', 'c', 'd', 'e', 'f', 'g', 'h', 'i', 'j']\n",
        "edges = [('a', 'c'), ('c', 'd'), ('c', 'g'), ('e', 'f'), ('e', 'h'), ('f', 'h'), ('b', 'i')]\n",
        "\n",
        "print(findComponents_undirectedGraph(vertices, edges))\n",
        "\n",
        "vertices = [1, 2, 3, 4, 5, 6, 7, 8]\n",
        "edges = [(1, 3), (3, 4), (3, 7), (5, 6), (5, 8), (6, 8)]\n",
        "\n",
        "print(findComponents_undirectedGraph(vertices, edges))"
      ],
      "metadata": {
        "colab": {
          "base_uri": "https://localhost:8080/"
        },
        "id": "63Rp6HuobabC",
        "outputId": "7b57da0c-2ad8-4f2c-d067-6454ac7fde3f"
      },
      "execution_count": 26,
      "outputs": [
        {
          "output_type": "stream",
          "name": "stdout",
          "text": [
            "4\n",
            "3\n"
          ]
        }
      ]
    },
    {
      "cell_type": "markdown",
      "source": [
        "## PPA_2"
      ],
      "metadata": {
        "id": "u_MPNX5smOlf"
      }
    },
    {
      "cell_type": "code",
      "source": [
        "def findPath(gList, source, destination, visited, path, list_of_paths):\n",
        "  visited[source] = True\n",
        "  path.append(source)\n",
        "\n",
        "  if source == destination:\n",
        "    x = []\n",
        "    for i in path:\n",
        "      x += [i]\n",
        "    list_of_paths.append(x)\n",
        "  \n",
        "  else:\n",
        "    for i in gList[source]:\n",
        "      if visited[i] == False:\n",
        "        findPath(gList, i, destination, visited, path, list_of_paths)\n",
        "\n",
        "  path.pop()\n",
        "  visited[source] = False\n",
        "\n",
        "def findAllPaths(vertices, gList, source, destination):\n",
        "  visited = {}\n",
        "  for vertex in vertices:\n",
        "    visited[vertex] = False\n",
        "  \n",
        "  path = []\n",
        "  list_of_paths = []\n",
        "\n",
        "  findPath(gList, source, destination, visited, path, list_of_paths)\n",
        "\n",
        "  return list_of_paths"
      ],
      "metadata": {
        "id": "soQvbQrKmQF0"
      },
      "execution_count": 117,
      "outputs": []
    },
    {
      "cell_type": "code",
      "source": [
        "vertices = [1, 2, 3, 4, 5, 6, 7, 8]\n",
        "gList = {1: [3, 4], 2: [3], 3: [6], 4: [6, 7], 5: [4, 6], 6: [2], 7: [5]}\n",
        "source = 1\n",
        "destination = 2\n",
        "\n",
        "print(findAllPaths(vertices, gList, source, destination))"
      ],
      "metadata": {
        "colab": {
          "base_uri": "https://localhost:8080/"
        },
        "id": "pXm2eRtdmbJw",
        "outputId": "ad0446f6-3d50-49e3-8bed-dbca4a94ff6d"
      },
      "execution_count": 118,
      "outputs": [
        {
          "output_type": "stream",
          "name": "stdout",
          "text": [
            "[[1, 3, 6, 2], [1, 4, 6, 2], [1, 4, 7, 5, 6, 2]]\n"
          ]
        }
      ]
    },
    {
      "cell_type": "markdown",
      "source": [
        "## PPA_3"
      ],
      "metadata": {
        "id": "HF7GZxW27tUD"
      }
    },
    {
      "cell_type": "code",
      "source": [
        "class Queue:\n",
        "  def __init__(self):\n",
        "    self.queue = []\n",
        "  \n",
        "  def enqueue(self, v):\n",
        "    self.queue.append(v)\n",
        "  \n",
        "  def isempty(self):\n",
        "    return self.queue == []\n",
        "  \n",
        "  def dequeue(self):\n",
        "    v = None\n",
        "    if not self.isempty():\n",
        "      v = self.queue[0]\n",
        "      # First in First Out\n",
        "      self.queue = self.queue[1:]\n",
        "    return v\n",
        "\n",
        "def to_graph(maze):\n",
        "    \"\"\"Returns Adjacency_list, Start_Point, End_Point, Key\"\"\"\n",
        "    m = len(maze)\n",
        "    n = len(maze[0])\n",
        "\n",
        "    a_list = {}\n",
        "\n",
        "    for i in range(m):\n",
        "      for j in range(n):\n",
        "        a_list[(i, j)] = []\n",
        "        path_items = [\" \", \"*\"]\n",
        "\n",
        "        if maze[i][j] in path_items:\n",
        "          # (i+1, j) is a path\n",
        "          if i+1 < m and maze[i+1][j] in path_items:\n",
        "            a_list[(i, j)].append((i+1, j))\n",
        "          # (i, j+1) is a path\n",
        "          if j+1 < n and maze[i][j+1] in path_items:\n",
        "            a_list[(i, j)].append((i, j+1))\n",
        "          # (i-1, j) is a path\n",
        "          if i-1 > 0 and maze[i-1][j] in path_items:\n",
        "            a_list[(i, j)].append((i-1, j))\n",
        "          # (i, j-1) is a path\n",
        "          if j-1 > 0 and maze[i][j-1] in path_items:\n",
        "            a_list[(i, j)].append((i, j-1))\n",
        "          # j is start point\n",
        "          if j == 0:\n",
        "            start = (i, j)\n",
        "          # j is end point\n",
        "          if j == n-1:\n",
        "            end = (i, j)\n",
        "          # (i, j) is where the key is\n",
        "          if maze[i][j] == \"*\":\n",
        "            key = (i, j)\n",
        "    \n",
        "    return (a_list, start, end, key)\n",
        "  \n",
        "def breath_first_search_distance(a_list, v):\n",
        "  level = {}\n",
        "  for i in a_list.keys():\n",
        "    level[i] = -1\n",
        "  \n",
        "  q = Queue()\n",
        "  level[v] = 0\n",
        "  q.enqueue(v)\n",
        "\n",
        "  while not q.isempty():\n",
        "    j = q.dequeue()\n",
        "    for k in a_list[j]:\n",
        "      if level[k] == -1:\n",
        "        level[k] = level[j] + 1\n",
        "        q.enqueue(k)\n",
        "  \n",
        "  return level\n",
        "\n",
        "def maze_status(a_list, start, end, key, level):\n",
        "  if level[key] == -1:\n",
        "    return -1\n",
        "  else:\n",
        "    level_2 = breath_first_search_distance(a_list, key)\n",
        "    if level_2[end] == -1:\n",
        "      return -2\n",
        "    else:\n",
        "      return level[key] + level_2[end]\n",
        "  \n",
        "# Input Output\n",
        "maze = []\n",
        "\n",
        "flag = True\n",
        "while flag:\n",
        "    x = str(input())\n",
        "    if x:\n",
        "        maze.append(x)\n",
        "    else:\n",
        "        flag = False\n",
        "\n",
        "# Get Graph Attributes\n",
        "(a_list, start, end, key) = to_graph(maze)\n",
        "\n",
        "level = breath_first_search_distance(a_list, start)\n",
        "\n",
        "print(maze_status(a_list, start, end, key, level))"
      ],
      "metadata": {
        "colab": {
          "base_uri": "https://localhost:8080/"
        },
        "id": "AEiVDCy17upV",
        "outputId": "aeaaa40a-a2e7-45d6-abab-280215d77794"
      },
      "execution_count": 120,
      "outputs": [
        {
          "output_type": "stream",
          "name": "stdout",
          "text": [
            "XXXXXXXXXXXXXX\n",
            "   X    XXX  X\n",
            "X  X    X X  X\n",
            "X  X         X\n",
            "X  XX  X XX  X\n",
            "X  X  XX  X   \n",
            "X     XX XXXXX\n",
            "X  X         X\n",
            "X  X      *  X\n",
            "XXXXXXXXXXXXXX\n",
            "\n",
            "31\n"
          ]
        }
      ]
    },
    {
      "cell_type": "markdown",
      "source": [
        "# Graded_Assignments"
      ],
      "metadata": {
        "id": "2XJZ3I6uF5dW"
      }
    },
    {
      "cell_type": "markdown",
      "source": [
        "## GrPA_1"
      ],
      "metadata": {
        "id": "ctuunKD4F8lZ"
      }
    },
    {
      "cell_type": "code",
      "source": [
        "import numpy as np\n",
        "\n",
        "class Queue:\n",
        "  def __init__(self):\n",
        "    self.queue = []\n",
        "  \n",
        "  def enqueue(self, v):\n",
        "    self.queue.append(v)\n",
        "  \n",
        "  def isempty(self):\n",
        "    return self.queue == []\n",
        "  \n",
        "  def dequeue(self):\n",
        "    v = None\n",
        "    if not self.isempty():\n",
        "      v = self.queue[0]\n",
        "      # First in First Out\n",
        "      self.queue = self.queue[1:]\n",
        "    return v\n",
        "\n",
        "def breath_first_search_distance(a_list, v):\n",
        "  level = {}\n",
        "  for i in a_list.keys():\n",
        "    level[i] = -1\n",
        "  \n",
        "  q = Queue()\n",
        "  level[v] = 0\n",
        "  q.enqueue(v)\n",
        "\n",
        "  while not q.isempty():\n",
        "    j = q.dequeue()\n",
        "    for k in a_list[j]:\n",
        "      if level[k] == -1:\n",
        "        level[k] = level[j] + 1\n",
        "        q.enqueue(k)\n",
        "  \n",
        "  return level\n",
        "\n",
        "def findConnectionLevel(n, G, x, y):\n",
        "  edges = []\n",
        "  for i in range(len(G)):\n",
        "    for j in range(len(G)):\n",
        "      if G[i][j] == 1:\n",
        "        edges.append((i, j))\n",
        "  \n",
        "  A = np.zeros(shape=(n, n))\n",
        "  for (i, j) in edges:\n",
        "    A[i, j] = 1\n",
        "  \n",
        "  a_list = {}\n",
        "  for i in range(len(A)):\n",
        "    a_list[i] = []\n",
        "  \n",
        "  for (i, j) in edges:\n",
        "    a_list[i].append(j)\n",
        "  \n",
        "  level_x = breath_first_search_distance(a_list, x)[y]\n",
        "  level_y = breath_first_search_distance(a_list, y)[x]\n",
        "\n",
        "  if level_x == -1:\n",
        "    level_x = 0\n",
        "  if level_y == -1:\n",
        "    level_y = 0\n",
        "  \n",
        "  return min(level_x, level_y)"
      ],
      "metadata": {
        "id": "4yyK0nCoF7pt"
      },
      "execution_count": 131,
      "outputs": []
    },
    {
      "cell_type": "code",
      "source": [
        "n = 7\n",
        "\n",
        "A = [ [0, 1, 1, 0, 0, 0, 0],\n",
        "      [1, 0, 1, 1, 1, 1, 0],\n",
        "      [1, 1, 0, 1, 1, 1, 0],\n",
        "      [0, 1, 1, 0, 1, 0, 0],\n",
        "      [0, 1, 1, 1, 0, 1, 0],\n",
        "      [0, 1, 1, 0, 1, 0, 1],\n",
        "      [0, 0, 0, 0, 0, 1, 0] ]\n",
        "\n",
        "x = 0\n",
        "y = 6\n",
        "\n",
        "print(findConnectionLevel(n, A, x, y))"
      ],
      "metadata": {
        "colab": {
          "base_uri": "https://localhost:8080/"
        },
        "id": "XAEADHzNG2Yg",
        "outputId": "93675d8e-7869-45ea-f7e0-f89ff8aa765f"
      },
      "execution_count": 132,
      "outputs": [
        {
          "output_type": "stream",
          "name": "stdout",
          "text": [
            "3\n"
          ]
        }
      ]
    },
    {
      "cell_type": "markdown",
      "source": [
        "## GrPA_2"
      ],
      "metadata": {
        "id": "RqsdbtQZOnED"
      }
    },
    {
      "cell_type": "code",
      "source": [
        "def findMasterTank(tanks, pipes):\n",
        "  # Prepare adjacency list\n",
        "  a_list = {}\n",
        "  for i in tanks:\n",
        "    a_list[i] = []\n",
        "  \n",
        "  for (i, j) in pipes:\n",
        "    a_list[i].append(j)\n",
        "\n",
        "  (indegree, sorted_list) = ({}, [])\n",
        "  zero_degree_q = Queue()\n",
        "\n",
        "  for u in a_list.keys():\n",
        "    indegree[u] = 0\n",
        "\n",
        "  # Update inDegree\n",
        "  for u in a_list.keys():\n",
        "    for v in a_list[u]:\n",
        "      indegree[v] += 1\n",
        "  \n",
        "  for u in a_list.keys():\n",
        "    if indegree[u] == 0:\n",
        "      zero_degree_q.enqueue(u)\n",
        "  \n",
        "  while not zero_degree_q.isempty():\n",
        "    j = zero_degree_q.dequeue()\n",
        "    sorted_list.append(j)\n",
        "    indegree[j] -= 1\n",
        "    for k in a_list[j]:\n",
        "      indegree[k] -= 1\n",
        "      if indegree[k] == 0:\n",
        "        zero_degree_q.enqueue(k)\n",
        "  \n",
        "  if sorted_list == []:\n",
        "    sorted_list.append(0)\n",
        "\n",
        "  return sorted_list[0]"
      ],
      "metadata": {
        "id": "Krzuc8u2UMPV"
      },
      "execution_count": null,
      "outputs": []
    },
    {
      "cell_type": "code",
      "source": [
        "def breath_first_search_distance(a_list, v):\n",
        "  level = {}\n",
        "  for i in a_list.keys():\n",
        "    level[i] = -1\n",
        "  \n",
        "  q = Queue()\n",
        "  level[v] = 0\n",
        "  q.enqueue(v)\n",
        "\n",
        "  while not q.isempty():\n",
        "    j = q.dequeue()\n",
        "    for k in a_list[j]:\n",
        "      if level[k] == -1:\n",
        "        level[k] = level[j] + 1\n",
        "        q.enqueue(k)\n",
        "  \n",
        "  return level\n",
        "\n",
        "def findMasterTank(tanks, pipes):\n",
        "  # Prepare adjacency list\n",
        "  a_list = {}\n",
        "  for i in tanks:\n",
        "    a_list[i] = []\n",
        "  \n",
        "  for (i, j) in pipes:\n",
        "    a_list[i].append(j)\n",
        "  \n",
        "  flag = True\n",
        "  for i in a_list:\n",
        "    level = breath_first_search_distance(a_list, i)\n",
        "    for j in level.keys():\n",
        "      if level[j] == -1:\n",
        "        flag = False\n",
        "    if flag == True:\n",
        "      return i\n",
        "    flag = True\n",
        "  \n",
        "  return 0"
      ],
      "metadata": {
        "id": "_Fn4RSRzV0it"
      },
      "execution_count": 156,
      "outputs": []
    },
    {
      "cell_type": "code",
      "source": [
        "tanks = [1, 2, 3, 4, 5, 6, 7]\n",
        "pipes = [(1, 3), (2, 3), (3, 6), (4, 6), (4, 7), (6, 2), (7, 5), (5, 1), (5, 6)]\n",
        "\n",
        "\"\"\"\n",
        "tanks = [1, 2, 3, 4]\n",
        "pipes = [(1, 2), (2, 3), (2, 4)]\"\"\"\n",
        "\n",
        "print(findMasterTank(tanks, pipes))"
      ],
      "metadata": {
        "colab": {
          "base_uri": "https://localhost:8080/"
        },
        "id": "NnqWfaqbQhQZ",
        "outputId": "2a3ee971-5aac-4993-fa44-22a554218c49"
      },
      "execution_count": 157,
      "outputs": [
        {
          "output_type": "stream",
          "name": "stdout",
          "text": [
            "4\n"
          ]
        }
      ]
    },
    {
      "cell_type": "markdown",
      "source": [
        "## GrPA_3"
      ],
      "metadata": {
        "id": "EQvfftIiZVwP"
      }
    },
    {
      "cell_type": "code",
      "source": [
        "class Queue:\n",
        "  def __init__(self):\n",
        "    self.queue = []\n",
        "  \n",
        "  def enqueue(self, v):\n",
        "    self.queue.append(v)\n",
        "  \n",
        "  def isempty(self):\n",
        "    return self.queue == []\n",
        "  \n",
        "  def dequeue(self):\n",
        "    v = None\n",
        "    if not self.isempty():\n",
        "      v = self.queue[0]\n",
        "      # First in First Out\n",
        "      self.queue = self.queue[1:]\n",
        "    return v\n",
        "\n",
        "def topological_sort(a_list):\n",
        "  indegree, l_path = {}, {}\n",
        "  for i in a_list:\n",
        "    indegree[i] = 0\n",
        "    l_path[i] = 0\n",
        "  for i in a_list:\n",
        "    for j in a_list[i]:\n",
        "      indegree[j] += 1\n",
        "  \n",
        "  zero_q = Queue()\n",
        "\n",
        "  for i in a_list:\n",
        "    if indegree[i] == 0:\n",
        "      zero_q.enqueue(i)\n",
        "  \n",
        "  while not zero_q.isempty():\n",
        "    j = zero_q.dequeue()\n",
        "    indegree[j] -= 1\n",
        "    for k in a_list[j]:\n",
        "      indegree[k] -= 1\n",
        "      l_path[k] = max(l_path[k], l_path[j] + 1)\n",
        "      if indegree[k] == 0:\n",
        "        zero_q.enqueue(k)\n",
        "  \n",
        "  return l_path\n",
        "\n",
        "def longJourney(a_list):\n",
        "  l_path = topological_sort(a_list)\n",
        "  magic_order = []\n",
        "\n",
        "  # Sort by nodes covering the max distance to the least\n",
        "  powerful_cities = sorted(l_path, key = l_path.get, reverse = True)\n",
        "\n",
        "  magic_order.append(powerful_cities[0])\n",
        "  for i in range(1, len(powerful_cities)):\n",
        "    if magic_order[-1] in a_list[powerful_cities[i]]:\n",
        "      magic_order.append(powerful_cities[i])\n",
        "  \n",
        "  magic_order = magic_order[::-1]\n",
        "  return magic_order"
      ],
      "metadata": {
        "id": "oeZl3FmFZYZb"
      },
      "execution_count": 164,
      "outputs": []
    },
    {
      "cell_type": "code",
      "source": [
        "a_list = {\n",
        "  'Madurai': ['Cochin', 'Kanyakumari'],\n",
        " 'Vaishali': [],\n",
        " 'Varanasi': ['Khajuraho', 'Bodhgaya'],\n",
        " 'Thiruvanandhapuram': ['Kanyakumari'],\n",
        " 'Udaipur': ['Gir', 'Ajanta'],\n",
        " 'Rishikesh': ['Delhi'],\n",
        " 'Shimla': ['Rishikesh'],\n",
        " 'Bangalore': ['Chennai', 'Madurai'],\n",
        " 'Agra': ['Ranthambore'],\n",
        " 'Ellora': ['Aurangabad'],\n",
        " 'Bodhgaya': ['Kolkatta'],\n",
        " 'Cochin': ['Thiruvanandhapuram'],\n",
        " 'Pushkar': ['Udaipur', 'Ranthambore'],\n",
        " 'Ranthambore': ['Khajuraho'],\n",
        " 'Gir': [],\n",
        " 'Aurangabad': ['Mumbai'],\n",
        " 'Kolkatta': ['Ajanta', 'Bangalore', 'Chennai'],\n",
        " 'Chennai': ['Madurai'],\n",
        " 'Sravasti': ['Kushinagar'],\n",
        " 'Leh': ['Shimla'],\n",
        " 'Sarnath': ['Varanasi'],\n",
        " 'Delhi': ['Jaipur', 'Agra', 'Sravasti'],\n",
        " 'Goa': ['Cochin', 'Bangalore'],\n",
        " 'Kanyakumari': [],\n",
        " 'Kushinagar': ['Sarnath', 'Vaishali'],\n",
        " 'Khajuraho': ['Ajanta'],\n",
        " 'Jaipur': ['Pushkar'],\n",
        " 'Mumbai': ['Goa'],\n",
        " 'Ajanta': ['Ellora', 'Aurangabad']\n",
        "}\n",
        "\n",
        "print(longJourney(a_list))"
      ],
      "metadata": {
        "colab": {
          "base_uri": "https://localhost:8080/"
        },
        "id": "Ek7CQk3ubSN5",
        "outputId": "2edda875-4ca1-4c31-9915-be4c8363c0a4"
      },
      "execution_count": 165,
      "outputs": [
        {
          "output_type": "stream",
          "name": "stdout",
          "text": [
            "['Leh', 'Shimla', 'Rishikesh', 'Delhi', 'Sravasti', 'Kushinagar', 'Sarnath', 'Varanasi', 'Bodhgaya', 'Kolkatta', 'Ajanta', 'Ellora', 'Aurangabad', 'Mumbai', 'Goa', 'Bangalore', 'Chennai', 'Madurai', 'Cochin', 'Thiruvanandhapuram', 'Kanyakumari']\n"
          ]
        }
      ]
    }
  ]
}